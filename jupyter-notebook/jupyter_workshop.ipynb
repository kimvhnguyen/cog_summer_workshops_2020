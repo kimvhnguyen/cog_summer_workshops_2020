{
 "cells": [
  {
   "cell_type": "markdown",
   "metadata": {},
   "source": [
    "# Jupyter Notebook Tutorial\n",
    "Coding Outreach Group Summer Workshop 6/5/2020"
   ]
  },
  {
   "cell_type": "markdown",
   "metadata": {},
   "source": [
    "## Setting your working directory\n",
    "This isn't necessary today if this Notebook is in the same folder/directory as the data.csv. But if you need to work with data from multiple directories and don't want a separate Notebook for each directory, this is useful. "
   ]
  },
  {
   "cell_type": "code",
   "execution_count": null,
   "metadata": {},
   "outputs": [],
   "source": [
    "# Mac users can use command line within the notebooks, just make sure the command is in its own cell\n",
    "# Otherwise, the notebook will treat the cell as a Python code \n",
    "pwd"
   ]
  },
  {
   "cell_type": "code",
   "execution_count": null,
   "metadata": {},
   "outputs": [],
   "source": [
    "pwd"
   ]
  },
  {
   "cell_type": "code",
   "execution_count": null,
   "metadata": {},
   "outputs": [],
   "source": [
    "ls"
   ]
  },
  {
   "cell_type": "code",
   "execution_count": null,
   "metadata": {},
   "outputs": [],
   "source": [
    "# Windows users can import os to change the working directory\n",
    "import os\n",
    "os.chdir(r\"C:\\Users\\youruser\\folder\\folder\\etc\")\n",
    "# Mac users can also use os.chdir in this format: os.chdir('/Users/KimNguyen/Desktop/Jupyter_Workshop')\n",
    "\n",
    "# get current working directory\n",
    "os.getcwd()"
   ]
  },
  {
   "cell_type": "code",
   "execution_count": null,
   "metadata": {},
   "outputs": [],
   "source": [
    "# list everything in current directory\n",
    "os.listdir()"
   ]
  },
  {
   "cell_type": "markdown",
   "metadata": {},
   "source": [
    "## Introduction to Pandas"
   ]
  },
  {
   "cell_type": "code",
   "execution_count": null,
   "metadata": {},
   "outputs": [],
   "source": [
    "# Import the pandas and numpy modules\n",
    "import pandas as pd\n",
    "import numpy as np\n"
   ]
  },
  {
   "cell_type": "markdown",
   "metadata": {},
   "source": [
    "Importing and viewing your data"
   ]
  },
  {
   "cell_type": "code",
   "execution_count": null,
   "metadata": {},
   "outputs": [],
   "source": [
    "#reading in your data file\n",
    "data = \"data.csv\"\n",
    "\n",
    "#convert the data file from a csv to a pandas dataframe\n",
    "DF = pd.read_csv(data, header = 0, index_col = 0)\n"
   ]
  },
  {
   "cell_type": "code",
   "execution_count": null,
   "metadata": {
    "scrolled": true
   },
   "outputs": [],
   "source": [
    "#Some ways you can view your data to check that everything was imported and converted correctly\n",
    "\n",
    "#prints the first 5 rows of the dataframe, you can also insert a specific number of rows in the parentheses DF.head(2)\n",
    "DF.head()\n"
   ]
  },
  {
   "cell_type": "code",
   "execution_count": null,
   "metadata": {
    "scrolled": true
   },
   "outputs": [],
   "source": [
    "# How will the dataframe change if we ran this line instead: DF = pd.read_csv(data, header = 1, index_col = 1)?\n",
    "# Test it out here!\n",
    "DF = pd.read_csv(data, header = 1, index_col = 1)\n",
    "DF.head()\n"
   ]
  },
  {
   "cell_type": "code",
   "execution_count": null,
   "metadata": {},
   "outputs": [],
   "source": [
    "# But remember to reset to the correct dataframe format\n",
    "DF = pd.read_csv(data, header = 0, index_col = 0)\n"
   ]
  },
  {
   "cell_type": "code",
   "execution_count": null,
   "metadata": {},
   "outputs": [],
   "source": [
    "#gives the dimensions of your dataframe (#rows, #columns)\n",
    "DF.shape\n"
   ]
  },
  {
   "cell_type": "code",
   "execution_count": null,
   "metadata": {},
   "outputs": [],
   "source": [
    "#gives the types of data of the columns\n",
    "DF.dtypes\n"
   ]
  },
  {
   "cell_type": "code",
   "execution_count": null,
   "metadata": {},
   "outputs": [],
   "source": [
    "#if you put all three previous lines together, you have to use print() for each, otherwise, the notebook will only print the last line.\n",
    "print(DF.head())\n",
    "print(DF.shape)\n",
    "print(DF.dtypes)\n"
   ]
  },
  {
   "cell_type": "markdown",
   "metadata": {},
   "source": [
    "Selecting specific data"
   ]
  },
  {
   "cell_type": "code",
   "execution_count": null,
   "metadata": {},
   "outputs": [],
   "source": [
    "# We can cut out a single column like this\n",
    "# What's really returned here is a pandas series\n",
    "#DF['Age']\n",
    "\n",
    "#Or multiple columns by inserting a list of columns ['Age', 'Sex']\n",
    "# What's returned in this case is a DataFrame\n",
    "DF[['Age', 'Sex']]\n",
    "\n",
    "#If you want to save any selection as it's own list or dataframe \n",
    "#DF2 = DF[['Age', 'Sex']]\n"
   ]
  },
  {
   "cell_type": "code",
   "execution_count": null,
   "metadata": {},
   "outputs": [],
   "source": [
    "# We can also select specific rows using .loc. \n",
    "# For this dataframe, this will give us specific participant numbered rows\n",
    "DF.loc[1]\n"
   ]
  },
  {
   "cell_type": "code",
   "execution_count": null,
   "metadata": {},
   "outputs": [],
   "source": [
    "# We can specify row position and column position by passing in two arguments\n",
    "#DF.loc[1, 'Age']\n",
    "\n",
    "# Or multiple row and columns!\n",
    "DF.loc[[1,2], ['Age', 'Sex']]\n"
   ]
  },
  {
   "cell_type": "code",
   "execution_count": null,
   "metadata": {},
   "outputs": [],
   "source": [
    "# Getting stats of specific columns\n",
    "DF['Age'].describe()\n",
    "\n",
    "# Getting stats of all columns, this will help later on when you graph the data\n",
    "DF.describe()\n"
   ]
  },
  {
   "cell_type": "code",
   "execution_count": null,
   "metadata": {},
   "outputs": [],
   "source": [
    "# If you make changes to your dataframe or create a new dataframe, you can save it as a csv/excel/text file\n",
    "DF.to_csv('new.csv', index=False)\n",
    "# DF.to_excel('new.xls', index=False)\n",
    "# DF.to_csv('new.txt', index=False)"
   ]
  },
  {
   "cell_type": "markdown",
   "metadata": {},
   "source": [
    "More on Pandas: https://pandas.pydata.org/pandas-docs/version/0.15/tutorials.html"
   ]
  },
  {
   "cell_type": "markdown",
   "metadata": {},
   "source": [
    "## Data Visualization"
   ]
  },
  {
   "cell_type": "code",
   "execution_count": null,
   "metadata": {},
   "outputs": [],
   "source": [
    "# Import seaborn and matplotlib modules for data visualization \n",
    "# We can combine these two\n",
    "import seaborn as sns\n",
    "import matplotlib.pyplot as plt \n"
   ]
  },
  {
   "cell_type": "markdown",
   "metadata": {},
   "source": [
    "More on matplotlib: https://matplotlib.org/gallery/index.html\n",
    "More on seaborn: https://seaborn.pydata.org/"
   ]
  },
  {
   "cell_type": "markdown",
   "metadata": {},
   "source": [
    "Colormap values: Accent, Accent_r, Blues, Blues_r, BrBG, BrBG_r, BuGn, BuGn_r, BuPu, BuPu_r, CMRmap, CMRmap_r, Dark2, Dark2_r, GnBu, GnBu_r, Greens, Greens_r, Greys, Greys_r, OrRd, OrRd_r, Oranges, Oranges_r, PRGn, PRGn_r, Paired, Paired_r, Pastel1, Pastel1_r, Pastel2, Pastel2_r, PiYG, PiYG_r, PuBu, PuBuGn, PuBuGn_r, PuBu_r, PuOr, PuOr_r, PuRd, PuRd_r, Purples, Purples_r, RdBu, RdBu_r, RdGy, RdGy_r, RdPu, RdPu_r, RdYlBu, RdYlBu_r, RdYlGn, RdYlGn_r, Reds, Reds_r, Set1, Set1_r, Set2, Set2_r, Set3, Set3_r, Spectral, Spectral_r, Wistia, Wistia_r, YlGn, YlGnBu, YlGnBu_r, YlGn_r, YlOrBr, YlOrBr_r, YlOrRd, YlOrRd_r, afmhot, afmhot_r, autumn, autumn_r, binary, binary_r, bone, bone_r, brg, brg_r, bwr, bwr_r, cividis, cividis_r, cool, cool_r, coolwarm, coolwarm_r, copper, copper_r, cubehelix, cubehelix_r, flag, flag_r, gist_earth, gist_earth_r, gist_gray, gist_gray_r, gist_heat, gist_heat_r, gist_ncar, gist_ncar_r, gist_rainbow, gist_rainbow_r, gist_stern, gist_stern_r, gist_yarg, gist_yarg_r, gnuplot, gnuplot2, gnuplot2_r, gnuplot_r, gray, gray_r, hot, hot_r, hsv, hsv_r, icefire, icefire_r, inferno, inferno_r, jet, jet_r, magma, magma_r, mako, mako_r, nipy_spectral, nipy_spectral_r, ocean, ocean_r, pink, pink_r, plasma, plasma_r, prism, prism_r, rainbow, rainbow_r, rocket, rocket_r, seismic, seismic_r, spring, spring_r, summer, summer_r, tab10, tab10_r, tab20, tab20_r, tab20b, tab20b_r, tab20c, tab20c_r, terrain, terrain_r, viridis, viridis_r, vlag, vlag_r, winter, winter_r"
   ]
  },
  {
   "cell_type": "code",
   "execution_count": null,
   "metadata": {},
   "outputs": [],
   "source": [
    "# Set seaborn context. \n",
    "# This affects things like the size of the labels, lines, and other elements of the plot, but not the overall style. \n",
    "# The base context is “notebook”, and the other contexts are “paper”, “talk”, and “poster”\n",
    "sns.set_context(\"paper\", font_scale = 1.5)\n"
   ]
  },
  {
   "cell_type": "markdown",
   "metadata": {},
   "source": [
    "More about set context: https://seaborn.pydata.org/generated/seaborn.set_context.html"
   ]
  },
  {
   "cell_type": "markdown",
   "metadata": {},
   "source": [
    "## Scatterplots"
   ]
  },
  {
   "cell_type": "code",
   "execution_count": null,
   "metadata": {},
   "outputs": [],
   "source": [
    "# A good ole vanilla scatterplot\n",
    "plt.gcf().subplots_adjust(bottom=0.15) #adds room to the x-axis label to not cut off the text\n",
    "plot1 = sns.scatterplot(x=\"Age\",y=\"Word Count\", palette = 'Set2', data=DF)\n",
    "#saving the graph to your current directory, the higher the dpi value, the longer it'll take for the cell to run \n",
    "plt.savefig(\"plot1.png\",dpi=100)\n"
   ]
  },
  {
   "cell_type": "code",
   "execution_count": null,
   "metadata": {},
   "outputs": [],
   "source": [
    "# You can also plot data by groups using hue = \"\"\n",
    "plot2 = sns.scatterplot(x=\"Word Count\",y=\"Composite (z)\", palette = 'Set2', data=DF, hue = \"Age Bins\")\n",
    "plt.legend(bbox_to_anchor=(1.05, 1), loc=2, borderaxespad=0.) #moves the legend outside the plot\n",
    "# The saved png will cutoff anything outside the plot (legend), so it might be better to take a screenshot. I've yet to learn how to deal with this.\n",
    "plt.savefig(\"plot2.png\",dpi=100)\n"
   ]
  },
  {
   "cell_type": "code",
   "execution_count": null,
   "metadata": {},
   "outputs": [],
   "source": [
    "# Scatterplots by two grouping dimensions (Age Bins and Sex)\n",
    "plot3 = sns.FacetGrid(DF, col=\"Age Bins\", hue=\"Sex\", palette = \"Set2\")\n",
    "plot3.map(plt.scatter, \"Word Count\", \"Composite (z)\", alpha=1)\n",
    "plot3.add_legend();\n",
    "plot3.savefig(\"plot3.png\",dpi=50)\n"
   ]
  },
  {
   "cell_type": "code",
   "execution_count": null,
   "metadata": {},
   "outputs": [],
   "source": [
    "# Scatterplots with bivariate distributions\n",
    "plot4 = sns.jointplot(x=\"Word Count\", y=\"Composite (z)\", data=DF, kind=\"reg\")\n",
    "plt.savefig(\"plot4.png\", dpi=100)\n",
    "\n",
    "# Hexbin plot: A really cool plot that also includes distributions, but it works best with large datasets\n",
    "with sns.axes_style(\"white\"):\n",
    "    plot5= sns.jointplot(x= \"Word Count\", y= \"Composite (z)\", kind=\"hex\", color=\"Pink\", data=DF)\n",
    "plt.savefig(\"plot5.png\", dpi=100)\n"
   ]
  },
  {
   "cell_type": "markdown",
   "metadata": {},
   "source": [
    "More about scatterplot: https://seaborn.pydata.org/generated/seaborn.scatterplot.html"
   ]
  },
  {
   "cell_type": "markdown",
   "metadata": {},
   "source": [
    "## Regression Plots"
   ]
  },
  {
   "cell_type": "code",
   "execution_count": null,
   "metadata": {},
   "outputs": [],
   "source": [
    "# Bivariate regression plot\n",
    "# x and y are data variables, palette is your color scheme, data is your dataset (usually a dataframe), and aspect is the multiplier for the x-axis length\n",
    "plot6 = sns.lmplot(x=\"Age\", y=\"Word Count\", palette = 'Set2', data=DF, aspect=1.5) \n",
    "\n",
    "# Optional: setting specific axes limits. \n",
    "# You can check your .describe() output from earlier to see the min and max of your variables\n",
    "axes = plot6.axes \n",
    "axes[0,0].set_ylim(0,200) #set graph y-axis limits\n",
    "axes[0,0].set_xlim(5,25) #set graph x-axis limits\n",
    "plt.savefig(\"plot6.png\",dpi=100) \n"
   ]
  },
  {
   "cell_type": "code",
   "execution_count": null,
   "metadata": {},
   "outputs": [],
   "source": [
    "# Regression plot by two groups (Age Bins and Sex)\n",
    "plot7 = sns.lmplot(x=\"Word Count\", y=\"Composite (z)\", palette = 'Set2', data=DF, aspect=1.5, hue = \"Age Bins\", col= \"Sex\") \n",
    "axes = plot7.axes \n",
    "axes[0,0].set_ylim(-2,2)\n",
    "axes[0,0].set_xlim(0,200)\n",
    "plt.savefig(\"plot7.png\",dpi=100)\n"
   ]
  },
  {
   "cell_type": "markdown",
   "metadata": {},
   "source": [
    "More about lm plot: https://seaborn.pydata.org/generated/seaborn.lmplot.html"
   ]
  },
  {
   "cell_type": "markdown",
   "metadata": {},
   "source": [
    "## Bar Plots"
   ]
  },
  {
   "cell_type": "code",
   "execution_count": null,
   "metadata": {},
   "outputs": [],
   "source": [
    "# Regular bar plot with capped 95% confidence interval bars\n",
    "plot8 = sns.barplot(x=\"Age Bins\", y=\"Word Count\", data=DF, palette= \"Set2\",ci=95, capsize= .15)\n",
    "plt.savefig(\"plot8.png\",dpi=100)\n"
   ]
  },
  {
   "cell_type": "code",
   "execution_count": null,
   "metadata": {},
   "outputs": [],
   "source": [
    "#Barplot with individual datapoints\n",
    "plot9 = sns.catplot(x=\"Age Bins\", y=\"Word Count\", data=DF, palette=\"Pastel2\")\n",
    "plot9.map(sns.barplot,x=\"Age Bins\", y=\"Word Count\", data=DF, palette= \"Set2\",ci=95, capsize=.15)\n",
    "plot9.set_axis_labels(\"Age Bins\", \"Word Count\")\n",
    "plt.savefig(\"plot9.png\",dpi=100)\n"
   ]
  },
  {
   "cell_type": "code",
   "execution_count": null,
   "metadata": {},
   "outputs": [],
   "source": [
    "#Bar plots across two grouping dimensions\n",
    "with sns.color_palette(\"Set2\"):\n",
    "    plot10 = sns.FacetGrid(DF, col=\"Sex\", height=10, aspect=1.5)\n",
    "    plot10.map(sns.barplot, \"Age Bins\", \"Word Count\", ci=95);\n",
    "plt.savefig(\"plot10.png\",dpi=50)\n"
   ]
  },
  {
   "cell_type": "markdown",
   "metadata": {},
   "source": [
    "More on bar plots: https://seaborn.pydata.org/generated/seaborn.barplot.html"
   ]
  },
  {
   "cell_type": "markdown",
   "metadata": {},
   "source": [
    "More on multi-plot grids: https://seaborn.pydata.org/tutorial/axis_grids.html"
   ]
  },
  {
   "cell_type": "markdown",
   "metadata": {},
   "source": [
    "## Other Cool Plots"
   ]
  },
  {
   "cell_type": "code",
   "execution_count": null,
   "metadata": {},
   "outputs": [],
   "source": [
    "#Violin plots\n",
    "plot11 = sns.violinplot(x=\"Age Bins\", y=\"Word Count\", data=DF, palette=\"Set2\", hue=\"Sex\")\n",
    "plt.legend(bbox_to_anchor=(1.05, 1), loc=2, borderaxespad=0.)\n",
    "plt.savefig(\"plot11.png\", dpi=100) #again, this will cutoff the legend that's outside the plot\n"
   ]
  },
  {
   "cell_type": "markdown",
   "metadata": {},
   "source": [
    "More about violin plots: https://seaborn.pydata.org/generated/seaborn.violinplot.html"
   ]
  },
  {
   "cell_type": "code",
   "execution_count": null,
   "metadata": {},
   "outputs": [],
   "source": [
    "# Heatmaps, very useful for RSA or correlation comparison visualization\n",
    "fake_data = np.random.rand(51, 51)\n",
    "plot12 = sns.heatmap(fake_data, cmap=\"Blues\")\n",
    "plt.savefig(\"plot12.png\", dpi=100)\n"
   ]
  },
  {
   "cell_type": "markdown",
   "metadata": {},
   "source": [
    "More on heatmaps: https://seaborn.pydata.org/generated/seaborn.heatmap.html\n",
    "More on clustermaps: https://seaborn.pydata.org/generated/seaborn.clustermap.html#seaborn.clustermap"
   ]
  }
 ],
 "metadata": {
  "kernelspec": {
   "display_name": "Python 3",
   "language": "python",
   "name": "python3"
  },
  "language_info": {
   "codemirror_mode": {
    "name": "ipython",
    "version": 3
   },
   "file_extension": ".py",
   "mimetype": "text/x-python",
   "name": "python",
   "nbconvert_exporter": "python",
   "pygments_lexer": "ipython3",
   "version": "3.6.8"
  }
 },
 "nbformat": 4,
 "nbformat_minor": 2
}
